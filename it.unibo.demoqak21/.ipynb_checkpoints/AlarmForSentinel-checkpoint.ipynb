{
 "cells": [
  {
   "cell_type": "code",
   "execution_count": null,
   "metadata": {},
   "outputs": [],
   "source": [
    "##############################################################\n",
    "# alarmForSender.py\n",
    "##############################################################\n",
    "import socket\n",
    "import time\n",
    "\n",
    "port = 8095\n",
    "sock = socket.socket(socket.AF_INET, socket.SOCK_STREAM)\n",
    "\n",
    "msg1  = \"msg(msg1,dispatch,python,demo,msg1(1),1)\"\n",
    "msg2  = \"msg(msg2,dispatch,python,demo,msg2(1),2)\"\n",
    "alarm = \"msg(alarm,event,python,none,alarm(fire),3)\"\n",
    "\n",
    "def connect(port) :\n",
    "    server_address = ('localhost', port)\n",
    "    sock.connect(server_address)    \n",
    "    print(\"CONNECTED \" , server_address)\n",
    "\n",
    "def forward( message ) :\n",
    "    print(\"forward \", message)\n",
    "    msg = message + \"\\n\"\n",
    "    byt=msg.encode()    #required in Python3\n",
    "    sock.send(byt)\n",
    "\n",
    "def emit( event ) :\n",
    "    print(\"emit \", event)\n",
    "    msg = event + \"\\n\"\n",
    "    byt=msg.encode()    #required in Python3\n",
    "    sock.send(byt)\n",
    "\n",
    "def work() :\n",
    "    forward( msg1 ) \n",
    "    time.sleep(1)\n",
    "    emit( alarm )\n",
    "    forward( msg2 ) \n",
    "\n",
    "\n",
    "def terminate() :\n",
    "    sock.close()\n",
    "    print(\"BYE\")\n",
    "\n",
    "###########################################    \n",
    "connect(port)\n",
    "work()\n",
    "##terminate()  \n"
   ]
  }
 ],
 "metadata": {
  "kernelspec": {
   "display_name": "Python 3",
   "language": "python",
   "name": "python3"
  }
 },
 "nbformat": 4,
 "nbformat_minor": 2
}
