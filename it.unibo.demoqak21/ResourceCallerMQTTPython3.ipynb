{
 "cells": [
  {
   "cell_type": "code",
   "execution_count": 1,
   "metadata": {},
   "outputs": [
    {
     "name": "stdout",
     "output_type": "stream",
     "text": [
      "connected to broker  broker.hivemq.com\n",
      "EMIT ALARM ...\n",
      "sendMqtt  msg(alarm,event,python,none,alarm(firepython),3)\n",
      "message received  msg(alarm,event,python,none,alarm(firepython),3)\n",
      "\n",
      "BYE\n"
     ]
    }
   ],
   "source": [
    "##############################################################\n",
    "# ResourceCallerMqttPython3.py\n",
    "##############################################################\n",
    "import time\n",
    "import paho.mqtt.client as paho\n",
    " \n",
    "brokerAddr     = \"broker.hivemq.com\"\n",
    "topic          = \"resource/input\"\n",
    " \n",
    "msgresourcealone   = \"msg(cmd,request,python,resource,cmd(python),5)\"\n",
    "alarm              = \"msg(alarm,event,python,none,alarm(firepython),3)\" \n",
    "\n",
    "def sendMqtt( message ) :\n",
    "    print(\"sendMqtt \", message)\n",
    "    msg = message + \"\\n\"\n",
    "    #byt=msg.encode()    #required in Python3\n",
    "    client.publish(topic, msg)\n",
    "\n",
    "def on_message(client, userdata, message) :\n",
    "    print(\"message received \" ,str(message.payload.decode(\"utf-8\")))\n",
    "    ## print(\"message topic=\",message.topic)\n",
    "    ## print(\"message qos=\",message.qos)\n",
    "    ## print(\"message retain flag=\",message.retain)\n",
    "    \n",
    "\n",
    "def work() :\n",
    "    client.subscribe(topic, qos=0)      #subscribe before publish\n",
    "    client.on_message=on_message        #attach function to callback\n",
    "    ##sendMqtt( msgresourcealone )\n",
    "    ##time.sleep( 2 )\n",
    "    print(\"EMIT ALARM ...\" )\n",
    "    sendMqtt( alarm )\n",
    "    client.loop_start()  #check for messages\n",
    "\n",
    "def terminate() :\n",
    "    client.disconnect()\n",
    "    print(\"BYE\")\n",
    "#################################################   \n",
    "client= paho.Client(\"senderPython\")      \n",
    "client.connect(brokerAddr)              #connect\n",
    "print(\"connected to broker \", brokerAddr)\n",
    "work()\n",
    "time.sleep( 3 )\n",
    "print(\"BYE\")\n",
    "##terminate()"
   ]
  },
  {
   "cell_type": "code",
   "execution_count": null,
   "metadata": {},
   "outputs": [],
   "source": []
  }
 ],
 "metadata": {
  "kernelspec": {
   "display_name": "Python 3",
   "language": "python",
   "name": "python3"
  },
  "language_info": {
   "codemirror_mode": {
    "name": "ipython",
    "version": 3
   },
   "file_extension": ".py",
   "mimetype": "text/x-python",
   "name": "python",
   "nbconvert_exporter": "python",
   "pygments_lexer": "ipython3",
   "version": "3.7.3"
  }
 },
 "nbformat": 4,
 "nbformat_minor": 2
}
