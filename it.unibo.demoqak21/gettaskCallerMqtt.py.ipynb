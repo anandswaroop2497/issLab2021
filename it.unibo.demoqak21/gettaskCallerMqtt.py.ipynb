{
 "cells": [
  {
   "cell_type": "code",
   "execution_count": 1,
   "metadata": {},
   "outputs": [
    {
     "name": "stdout",
     "output_type": "stream",
     "text": [
      "connected to broker  broker.hivemq.com\n",
      "sendMqtt  msg(getmeatask,request,python,taskdeploy,getmeatask(stud,0000,mmm),5)\n"
     ]
    }
   ],
   "source": [
    "##############################################################\n",
    "# gettaskCallerMqtt.py\n",
    "##############################################################\n",
    "import time\n",
    "import paho.mqtt.client as paho\n",
    " \n",
    "brokerAddr     = \"broker.hivemq.com\"\n",
    "topic          = \"unibo/tasks/events\"\n",
    " \n",
    "msg  = \"msg(getmeatask,request,python,taskdeploy,getmeatask(stud,0000,mmm),5)\"\n",
    "\n",
    "def sendMqtt( message ) :\n",
    "    print(\"sendMqtt \", message)\n",
    "    msg = message + \"\\n\"\n",
    "    #byt=msg.encode()    #required in Python3\n",
    "    client.publish(topic, msg)\n",
    "\n",
    "def on_message(client, userdata, message):\n",
    "    print(\"message received \" ,str(message.payload.decode(\"utf-8\")))\n",
    "    print(\"message topic=\",message.topic)\n",
    "    print(\"message qos=\",message.qos)\n",
    "    print(\"message retain flag=\",message.retain)\n",
    "    \n",
    "\n",
    "def work() :\n",
    "    client.subscribe(topic, qos=0)\n",
    "    client.on_message=on_message        #attach function to callback\n",
    "    sendMqtt( msg )\n",
    "\n",
    "def terminate() :\n",
    "    client.disconnect()\n",
    "    print(\"BYE\")\n",
    "#################################################   \n",
    "client= paho.Client(\"sender\")      \n",
    "client.connect(brokerAddr)              #connect\n",
    "print(\"connected to broker \", brokerAddr)\n",
    "work()\n",
    "##terminate()"
   ]
  },
  {
   "cell_type": "code",
   "execution_count": null,
   "metadata": {},
   "outputs": [],
   "source": []
  }
 ],
 "metadata": {
  "kernelspec": {
   "display_name": "Python 3",
   "language": "python",
   "name": "python3"
  },
  "language_info": {
   "codemirror_mode": {
    "name": "ipython",
    "version": 3
   },
   "file_extension": ".py",
   "mimetype": "text/x-python",
   "name": "python",
   "nbconvert_exporter": "python",
   "pygments_lexer": "ipython3",
   "version": "3.7.3"
  }
 },
 "nbformat": 4,
 "nbformat_minor": 2
}
