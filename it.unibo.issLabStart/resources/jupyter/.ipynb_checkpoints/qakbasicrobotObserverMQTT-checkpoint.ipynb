{
 "cells": [
  {
   "cell_type": "code",
   "execution_count": 1,
   "metadata": {},
   "outputs": [
    {
     "ename": "ValueError",
     "evalue": "Invalid host.",
     "output_type": "error",
     "traceback": [
      "\u001b[1;31m---------------------------------------------------------------------------\u001b[0m",
      "\u001b[1;31mValueError\u001b[0m                                Traceback (most recent call last)",
      "\u001b[1;32m<ipython-input-1-25acd930dcb3>\u001b[0m in \u001b[0;36m<module>\u001b[1;34m\u001b[0m\n\u001b[0;32m     25\u001b[0m  \u001b[1;31m#################################################\u001b[0m\u001b[1;33m\u001b[0m\u001b[1;33m\u001b[0m\u001b[1;33m\u001b[0m\u001b[0m\n\u001b[0;32m     26\u001b[0m \u001b[1;33m\u001b[0m\u001b[0m\n\u001b[1;32m---> 27\u001b[1;33m \u001b[0msubscribeToInfoFromRobot\u001b[0m\u001b[1;33m(\u001b[0m\u001b[1;33m)\u001b[0m\u001b[1;33m\u001b[0m\u001b[1;33m\u001b[0m\u001b[0m\n\u001b[0m\u001b[0;32m     28\u001b[0m \u001b[0mcmd\u001b[0m \u001b[1;33m=\u001b[0m  \u001b[0mstr\u001b[0m\u001b[1;33m(\u001b[0m \u001b[0minput\u001b[0m\u001b[1;33m(\u001b[0m\u001b[1;33m)\u001b[0m \u001b[1;33m)\u001b[0m \u001b[1;31m##keep alive ...\u001b[0m\u001b[1;33m\u001b[0m\u001b[1;33m\u001b[0m\u001b[0m\n\u001b[0;32m     29\u001b[0m \u001b[1;33m\u001b[0m\u001b[0m\n",
      "\u001b[1;32m<ipython-input-1-25acd930dcb3>\u001b[0m in \u001b[0;36msubscribeToInfoFromRobot\u001b[1;34m()\u001b[0m\n\u001b[0;32m     11\u001b[0m \u001b[1;32mdef\u001b[0m \u001b[0msubscribeToInfoFromRobot\u001b[0m\u001b[1;33m(\u001b[0m\u001b[1;33m)\u001b[0m \u001b[1;33m:\u001b[0m\u001b[1;33m\u001b[0m\u001b[1;33m\u001b[0m\u001b[0m\n\u001b[0;32m     12\u001b[0m     \u001b[0minfoObserver\u001b[0m   \u001b[1;33m=\u001b[0m \u001b[0mpaho\u001b[0m\u001b[1;33m.\u001b[0m\u001b[0mClient\u001b[0m\u001b[1;33m(\u001b[0m\u001b[1;34m\"observer\"\u001b[0m\u001b[1;33m)\u001b[0m\u001b[1;33m\u001b[0m\u001b[1;33m\u001b[0m\u001b[0m\n\u001b[1;32m---> 13\u001b[1;33m     \u001b[0minfoObserver\u001b[0m\u001b[1;33m.\u001b[0m\u001b[0mconnect\u001b[0m\u001b[1;33m(\u001b[0m\u001b[0mbrokerAddr\u001b[0m\u001b[1;33m)\u001b[0m              \u001b[1;31m#connect\u001b[0m\u001b[1;33m\u001b[0m\u001b[1;33m\u001b[0m\u001b[0m\n\u001b[0m\u001b[0;32m     14\u001b[0m     \u001b[0mprint\u001b[0m\u001b[1;33m(\u001b[0m\u001b[1;34m\"infoObserver connected to broker \"\u001b[0m\u001b[1;33m,\u001b[0m \u001b[0mbrokerAddr\u001b[0m\u001b[1;33m)\u001b[0m\u001b[1;33m\u001b[0m\u001b[1;33m\u001b[0m\u001b[0m\n\u001b[0;32m     15\u001b[0m     \u001b[0minfoObserver\u001b[0m\u001b[1;33m.\u001b[0m\u001b[0msubscribe\u001b[0m\u001b[1;33m(\u001b[0m\u001b[0mrobottopic\u001b[0m\u001b[1;33m,\u001b[0m \u001b[0mqos\u001b[0m\u001b[1;33m=\u001b[0m\u001b[1;36m0\u001b[0m\u001b[1;33m)\u001b[0m\u001b[1;33m\u001b[0m\u001b[1;33m\u001b[0m\u001b[0m\n",
      "\u001b[1;32mc:\\users\\anatali\\appdata\\local\\programs\\python\\python37\\lib\\site-packages\\paho\\mqtt\\client.py\u001b[0m in \u001b[0;36mconnect\u001b[1;34m(self, host, port, keepalive, bind_address)\u001b[0m\n\u001b[0;32m    836\u001b[0m         \u001b[0mrate\u001b[0m \u001b[0mat\u001b[0m \u001b[0mwhich\u001b[0m \u001b[0mthe\u001b[0m \u001b[0mclient\u001b[0m \u001b[0mwill\u001b[0m \u001b[0msend\u001b[0m \u001b[0mping\u001b[0m \u001b[0mmessages\u001b[0m \u001b[0mto\u001b[0m \u001b[0mthe\u001b[0m \u001b[0mbroker\u001b[0m\u001b[1;33m.\u001b[0m\u001b[1;33m\u001b[0m\u001b[1;33m\u001b[0m\u001b[0m\n\u001b[0;32m    837\u001b[0m         \"\"\"\n\u001b[1;32m--> 838\u001b[1;33m         \u001b[0mself\u001b[0m\u001b[1;33m.\u001b[0m\u001b[0mconnect_async\u001b[0m\u001b[1;33m(\u001b[0m\u001b[0mhost\u001b[0m\u001b[1;33m,\u001b[0m \u001b[0mport\u001b[0m\u001b[1;33m,\u001b[0m \u001b[0mkeepalive\u001b[0m\u001b[1;33m,\u001b[0m \u001b[0mbind_address\u001b[0m\u001b[1;33m)\u001b[0m\u001b[1;33m\u001b[0m\u001b[1;33m\u001b[0m\u001b[0m\n\u001b[0m\u001b[0;32m    839\u001b[0m         \u001b[1;32mreturn\u001b[0m \u001b[0mself\u001b[0m\u001b[1;33m.\u001b[0m\u001b[0mreconnect\u001b[0m\u001b[1;33m(\u001b[0m\u001b[1;33m)\u001b[0m\u001b[1;33m\u001b[0m\u001b[1;33m\u001b[0m\u001b[0m\n\u001b[0;32m    840\u001b[0m \u001b[1;33m\u001b[0m\u001b[0m\n",
      "\u001b[1;32mc:\\users\\anatali\\appdata\\local\\programs\\python\\python37\\lib\\site-packages\\paho\\mqtt\\client.py\u001b[0m in \u001b[0;36mconnect_async\u001b[1;34m(self, host, port, keepalive, bind_address)\u001b[0m\n\u001b[0;32m    891\u001b[0m         \"\"\"\n\u001b[0;32m    892\u001b[0m         \u001b[1;32mif\u001b[0m \u001b[0mhost\u001b[0m \u001b[1;32mis\u001b[0m \u001b[1;32mNone\u001b[0m \u001b[1;32mor\u001b[0m \u001b[0mlen\u001b[0m\u001b[1;33m(\u001b[0m\u001b[0mhost\u001b[0m\u001b[1;33m)\u001b[0m \u001b[1;33m==\u001b[0m \u001b[1;36m0\u001b[0m\u001b[1;33m:\u001b[0m\u001b[1;33m\u001b[0m\u001b[1;33m\u001b[0m\u001b[0m\n\u001b[1;32m--> 893\u001b[1;33m             \u001b[1;32mraise\u001b[0m \u001b[0mValueError\u001b[0m\u001b[1;33m(\u001b[0m\u001b[1;34m'Invalid host.'\u001b[0m\u001b[1;33m)\u001b[0m\u001b[1;33m\u001b[0m\u001b[1;33m\u001b[0m\u001b[0m\n\u001b[0m\u001b[0;32m    894\u001b[0m         \u001b[1;32mif\u001b[0m \u001b[0mport\u001b[0m \u001b[1;33m<=\u001b[0m \u001b[1;36m0\u001b[0m\u001b[1;33m:\u001b[0m\u001b[1;33m\u001b[0m\u001b[1;33m\u001b[0m\u001b[0m\n\u001b[0;32m    895\u001b[0m             \u001b[1;32mraise\u001b[0m \u001b[0mValueError\u001b[0m\u001b[1;33m(\u001b[0m\u001b[1;34m'Invalid port number.'\u001b[0m\u001b[1;33m)\u001b[0m\u001b[1;33m\u001b[0m\u001b[1;33m\u001b[0m\u001b[0m\n",
      "\u001b[1;31mValueError\u001b[0m: Invalid host."
     ]
    }
   ],
   "source": [
    "#####################################################\n",
    "### qakbasicrobotObserverMQTT\n",
    "#####################################################\n",
    "\n",
    "import time\n",
    "import paho.mqtt.client as paho\n",
    " \n",
    "brokerAddr     =  \"localhost\"       ##\"broker.hivemq.com \"\n",
    "robottopic     = \"unibo/basicrobot\"\n",
    "\n",
    "def subscribeToInfoFromRobot() :\n",
    "    infoObserver   = paho.Client(\"observer\")\n",
    "    infoObserver.connect(brokerAddr)              #connect\n",
    "    print(\"infoObserver connected to broker \", brokerAddr)\n",
    "    infoObserver.subscribe(robottopic, qos=0)\n",
    "    infoObserver.on_message=on_message            #attach function to callback\n",
    "    infoObserver.loop_start()                     #check for input messages\n",
    "    \n",
    "def on_message(client, userdata, message) :\n",
    "    print(\"message received \" ,str(message.payload.decode(\"utf-8\")))\n",
    "    ## print(\"message topic=\",message.topic)\n",
    "    ## print(\"message qos=\",message.qos)\n",
    "    ## print(\"message retain flag=\",message.retain)\n",
    "       \n",
    " ################################################# \n",
    "\n",
    "subscribeToInfoFromRobot()\n",
    "cmd =  str( input() ) ##keep alive ...\n",
    " "
   ]
  },
  {
   "cell_type": "code",
   "execution_count": null,
   "metadata": {},
   "outputs": [],
   "source": []
  }
 ],
 "metadata": {
  "kernelspec": {
   "display_name": "Python 3",
   "language": "python",
   "name": "python3"
  },
  "language_info": {
   "codemirror_mode": {
    "name": "ipython",
    "version": 3
   },
   "file_extension": ".py",
   "mimetype": "text/x-python",
   "name": "python",
   "nbconvert_exporter": "python",
   "pygments_lexer": "ipython3",
   "version": "3.7.3"
  }
 },
 "nbformat": 4,
 "nbformat_minor": 2
}
