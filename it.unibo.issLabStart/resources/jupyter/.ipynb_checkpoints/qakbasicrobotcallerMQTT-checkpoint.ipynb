{
 "cells": [
  {
   "cell_type": "markdown",
   "metadata": {},
   "source": [
    "## Console for RadarGui via MQTT\n",
    "See the project it.unibo.qak.radar2020"
   ]
  },
  {
   "cell_type": "code",
   "execution_count": 1,
   "metadata": {},
   "outputs": [
    {
     "name": "stdout",
     "output_type": "stream",
     "text": [
      "connected to broker  broker.hivemq.com\n"
     ]
    },
    {
     "ename": "NameError",
     "evalue": "name 'topic' is not defined",
     "output_type": "error",
     "traceback": [
      "\u001b[1;31m---------------------------------------------------------------------------\u001b[0m",
      "\u001b[1;31mNameError\u001b[0m                                 Traceback (most recent call last)",
      "\u001b[1;32m<ipython-input-1-8d17e4d1ad86>\u001b[0m in \u001b[0;36m<module>\u001b[1;34m\u001b[0m\n\u001b[0;32m     43\u001b[0m \u001b[0mclient\u001b[0m\u001b[1;33m.\u001b[0m\u001b[0mconnect\u001b[0m\u001b[1;33m(\u001b[0m\u001b[0mbrokerAddr\u001b[0m\u001b[1;33m)\u001b[0m              \u001b[1;31m#connect\u001b[0m\u001b[1;33m\u001b[0m\u001b[1;33m\u001b[0m\u001b[0m\n\u001b[0;32m     44\u001b[0m \u001b[0mprint\u001b[0m\u001b[1;33m(\u001b[0m\u001b[1;34m\"connected to broker \"\u001b[0m\u001b[1;33m,\u001b[0m \u001b[0mbrokerAddr\u001b[0m\u001b[1;33m)\u001b[0m\u001b[1;33m\u001b[0m\u001b[1;33m\u001b[0m\u001b[0m\n\u001b[1;32m---> 45\u001b[1;33m \u001b[0minit\u001b[0m\u001b[1;33m(\u001b[0m\u001b[0mclient\u001b[0m\u001b[1;33m)\u001b[0m\u001b[1;33m\u001b[0m\u001b[1;33m\u001b[0m\u001b[0m\n\u001b[0m\u001b[0;32m     46\u001b[0m \u001b[0mconsole\u001b[0m\u001b[1;33m(\u001b[0m\u001b[1;33m)\u001b[0m\u001b[1;33m\u001b[0m\u001b[1;33m\u001b[0m\u001b[0m\n",
      "\u001b[1;32m<ipython-input-1-8d17e4d1ad86>\u001b[0m in \u001b[0;36minit\u001b[1;34m(client)\u001b[0m\n\u001b[0;32m      9\u001b[0m \u001b[1;33m\u001b[0m\u001b[0m\n\u001b[0;32m     10\u001b[0m \u001b[1;32mdef\u001b[0m \u001b[0minit\u001b[0m\u001b[1;33m(\u001b[0m\u001b[0mclient\u001b[0m\u001b[1;33m)\u001b[0m \u001b[1;33m:\u001b[0m\u001b[1;33m\u001b[0m\u001b[1;33m\u001b[0m\u001b[0m\n\u001b[1;32m---> 11\u001b[1;33m     \u001b[0mclient\u001b[0m\u001b[1;33m.\u001b[0m\u001b[0msubscribe\u001b[0m\u001b[1;33m(\u001b[0m\u001b[0mtopic\u001b[0m\u001b[1;33m,\u001b[0m \u001b[0mqos\u001b[0m\u001b[1;33m=\u001b[0m\u001b[1;36m0\u001b[0m\u001b[1;33m)\u001b[0m      \u001b[1;31m#subscribe before publish\u001b[0m\u001b[1;33m\u001b[0m\u001b[1;33m\u001b[0m\u001b[0m\n\u001b[0m\u001b[0;32m     12\u001b[0m     \u001b[0mclient\u001b[0m\u001b[1;33m.\u001b[0m\u001b[0mon_message\u001b[0m\u001b[1;33m=\u001b[0m\u001b[0mon_message\u001b[0m        \u001b[1;31m#attach function to callback\u001b[0m\u001b[1;33m\u001b[0m\u001b[1;33m\u001b[0m\u001b[0m\n\u001b[0;32m     13\u001b[0m     \u001b[0mclient\u001b[0m\u001b[1;33m.\u001b[0m\u001b[0mloop_start\u001b[0m\u001b[1;33m(\u001b[0m\u001b[1;33m)\u001b[0m  \u001b[1;31m#check for input messages\u001b[0m\u001b[1;33m\u001b[0m\u001b[1;33m\u001b[0m\u001b[0m\n",
      "\u001b[1;31mNameError\u001b[0m: name 'topic' is not defined"
     ]
    }
   ],
   "source": [
    "import time\n",
    "import paho.mqtt.client as paho\n",
    " \n",
    "brokerAddr     =  \"broker.hivemq.com\"       ##\"localhost\"\n",
    "robotName      = \"basicrobot\"                 #specific knowledge     \n",
    "robottopic     = \"unibo/basicrobot\"  \n",
    "##eventTemplate  = \"msg(polar,event,python,none,polar(CMDVAL,0),1)\"\n",
    "msgTemplate    = \"msg(cmd,dispatch,python,\"+ robotName +\",cmd(CMDVAL),1)\"\n",
    "client         = paho.Client(\"senderPython\")    \n",
    "def init( ) :\n",
    "    client.subscribe(robottopic, qos=0)      #subscribe before publish\n",
    "    client.on_message=on_message            #attach function to callback\n",
    "    client.loop_start()                     #check for input messages\n",
    "\n",
    "def publish( message, topic ) :\n",
    "    print(\"publish via MQTT\", message)\n",
    "    msg = message + \"\\n\"\n",
    "    client.publish(topic, msg)\n",
    "\n",
    "    \n",
    "def on_message(client, userdata, message) :\n",
    "    print(\"message received \" ,str(message.payload.decode(\"utf-8\")))\n",
    "    ## print(\"message topic=\",message.topic)\n",
    "    ## print(\"message qos=\",message.qos)\n",
    "    ## print(\"message retain flag=\",message.retain)\n",
    "    \n",
    "\n",
    "    \n",
    "def console() :  \n",
    "    print(\"console  STARTS :\"   )\n",
    "    cmd =  str( input() )\n",
    "    print(\"console  cmd=\" , cmd  )\n",
    "    while( cmd != \"q\"  ) :\n",
    "        ### msgEvent = eventTemplate.replace(\"CMDVAL\", cmd)\n",
    "        ### print( msgEvent )\n",
    "        ### publish( msgEvent, evtopic )\n",
    "        ### time.sleep(1)\n",
    "        msgDispatch = msgTemplate.replace(\"CMDVAL\", cmd)   \n",
    "        publish( msgDispatch, robottopic )\n",
    "        cmd =  str(input())\n",
    "#################################################  \n",
    "  \n",
    "client.connect(brokerAddr)              #connect\n",
    "print(\"connected to broker \", brokerAddr)\n",
    "init( )\n",
    "console()"
   ]
  },
  {
   "cell_type": "code",
   "execution_count": null,
   "metadata": {},
   "outputs": [],
   "source": []
  }
 ],
 "metadata": {
  "kernelspec": {
   "display_name": "Python 3",
   "language": "python",
   "name": "python3"
  },
  "language_info": {
   "codemirror_mode": {
    "name": "ipython",
    "version": 3
   },
   "file_extension": ".py",
   "mimetype": "text/x-python",
   "name": "python",
   "nbconvert_exporter": "python",
   "pygments_lexer": "ipython3",
   "version": "3.7.3"
  }
 },
 "nbformat": 4,
 "nbformat_minor": 2
}
