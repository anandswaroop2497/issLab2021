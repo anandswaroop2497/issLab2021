{
 "cells": [
  {
   "cell_type": "code",
   "execution_count": null,
   "metadata": {},
   "outputs": [
    {
     "name": "stdout",
     "output_type": "stream",
     "text": [
      "connected to broker  broker.hivemq.com\n",
      "console  STARTS :\n"
     ]
    }
   ],
   "source": [
    "import time\n",
    "import paho.mqtt.client as paho\n",
    " \n",
    "brokerAddr     = \"broker.hivemq.com\"       ##\"localhost\"\n",
    "robottopic     = \"unibo/basicrobot\"  \n",
    "\n",
    "msgTemplate    = \"msg(cmd,dispatch,python,basicrobot,cmd(CMDVAL),1)\"\n",
    "stepTemplate   = \"msg(step,request,python,basicrobot,step(TIME),1)\"\n",
    "client         = paho.Client(\"senderPython\")    \n",
    " \n",
    "\n",
    "def init( ) :\n",
    "    connectAndsubscribeToAnswerTopic()      #subscribe before publish\n",
    "    ## subscribeToInfoFromRobot()\n",
    "    \n",
    "def connectAndsubscribeToAnswerTopic() :\n",
    "    ##client.connect(brokerAddr)              #connect\n",
    "    print(\"connected to broker \", brokerAddr)\n",
    "    client.subscribe(\"unibo/qak/python\", qos=0)\n",
    "    client.on_message=on_message            #attach function to callback\n",
    "    client.loop_start()                     #check for input messages\n",
    "\n",
    "def subscribeToInfoFromRobot() :\n",
    "    infoObserver   = paho.Client(\"observer\")\n",
    "    infoObserver.connect(brokerAddr)              #connect\n",
    "    print(\"connected to broker \", brokerAddr)\n",
    "    infoObserver.subscribe(robottopic, qos=0)\n",
    "    infoObserver.on_message=on_message            #attach function to callback\n",
    "    infoObserver.loop_start()                     #check for input messages\n",
    "    \n",
    "def publish( message, topic ) :\n",
    "    print(\"publish via MQTT\", message)\n",
    "    msg = message + \"\\n\"\n",
    "    client.publish(topic, msg)\n",
    "\n",
    "    \n",
    "def on_message(client, userdata, message) :\n",
    "    print(\"message received \" ,str(message.payload.decode(\"utf-8\")))\n",
    "    ## print(\"message topic=\",message.topic)\n",
    "    ## print(\"message qos=\",message.qos)\n",
    "    ## print(\"message retain flag=\",message.retain)\n",
    "       \n",
    "def console() :  \n",
    "    print(\"console  STARTS :\"   )\n",
    "    cmd =  str( input() )\n",
    "    print(\"console  cmd=\" , cmd  )\n",
    "    while( cmd != \"q\"  ) :\n",
    "        ### msgEvent = eventTemplate.replace(\"CMDVAL\", cmd)\n",
    "        ### print( msgEvent )\n",
    "        ### publish( msgEvent, evtopic )\n",
    "        ### time.sleep(1)\n",
    "        if( cmd == \"p\") :\n",
    "            msgDispatch = stepTemplate.replace(\"TIME\", \"350\")\n",
    "        else : \n",
    "            msgDispatch = msgTemplate.replace(\"CMDVAL\", cmd)   \n",
    "        publish( msgDispatch, robottopic )\n",
    "        cmd =  str(input())\n",
    "################################################# \n",
    "client.connect(brokerAddr)  \n",
    "init( )\n",
    "console()"
   ]
  },
  {
   "cell_type": "code",
   "execution_count": null,
   "metadata": {},
   "outputs": [],
   "source": []
  }
 ],
 "metadata": {
  "kernelspec": {
   "display_name": "Python 3",
   "language": "python",
   "name": "python3"
  },
  "language_info": {
   "codemirror_mode": {
    "name": "ipython",
    "version": 3
   },
   "file_extension": ".py",
   "mimetype": "text/x-python",
   "name": "python",
   "nbconvert_exporter": "python",
   "pygments_lexer": "ipython3",
   "version": "3.7.3"
  }
 },
 "nbformat": 4,
 "nbformat_minor": 2
}
