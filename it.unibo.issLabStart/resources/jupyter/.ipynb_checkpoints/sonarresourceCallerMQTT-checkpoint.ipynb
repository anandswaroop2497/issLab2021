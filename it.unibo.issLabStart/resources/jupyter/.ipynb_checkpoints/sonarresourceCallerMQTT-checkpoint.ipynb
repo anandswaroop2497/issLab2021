{
 "cells": [
  {
   "cell_type": "code",
   "execution_count": 2,
   "metadata": {},
   "outputs": [
    {
     "name": "stdout",
     "output_type": "stream",
     "text": [
      "connected to broker  localhost\n",
      "44\n",
      "INPUT 44\n",
      "sending:msg(sonarrobot ,dispatch,python,sonarresource,sonar(44),5)\n",
      "sendMqtt  msg(sonarrobot ,dispatch,python,sonarresource,sonar(44),5)\n",
      "33\n",
      "sending:msg(sonarrobot ,dispatch,python,sonarresource,sonar(33),5)\n",
      "sendMqtt  msg(sonarrobot ,dispatch,python,sonarresource,sonar(33),5)\n",
      "q\n",
      "BYE\n"
     ]
    }
   ],
   "source": [
    "## sonarresourceCallerMQTT\n",
    "## simulates sonar data emitted using MQTT\n",
    "## the perceiver is the qak sonarresource (project it.unibo.sonarAsResource)\n",
    "import time\n",
    "import paho.mqtt.client as paho\n",
    " \n",
    "brokerAddr     = \"192.168.1.43\"   ##\"broker.hivemq.com\"\n",
    "topic          = \"sonar/data\"\n",
    " \n",
    "msgdispatch   = \"msg(sonarrobot ,dispatch,python,sonarresource,sonar(VALUE),5)\"\n",
    "msgevent      = \"msg(sonarrobot ,event,python,sonarresource,sonar(VALUE),10)\"\n",
    "\n",
    "def sendMqtt( message ) :\n",
    "    print(\"sendMqtt \", message)\n",
    "    msg = message + \"\\n\"\n",
    "    #byt=msg.encode()    #required in Python3\n",
    "    client.publish(topic, msg)\n",
    "\n",
    "def on_message(client, userdata, message) :\n",
    "    print(\"message received \" ,str(message.payload.decode(\"utf-8\")))\n",
    "    ## print(\"message topic=\",message.topic)\n",
    "    ## print(\"message qos=\",message.qos)\n",
    "    ## print(\"message retain flag=\",message.retain)\n",
    "    \n",
    "\n",
    "def init() :\n",
    "    client.subscribe(topic, qos=0)      #subscribe before publish\n",
    "    client.on_message=on_message        #attach function to callback\n",
    "    client.loop_start()  #check for input messages\n",
    "\n",
    "def terminate() :\n",
    "    client.disconnect()\n",
    "    print(\"BYE\")\n",
    "    \n",
    "def console() :  \n",
    "    v =  str( input() )\n",
    "    print(\"INPUT\" , v  )    \n",
    "    while( v != \"q\"  ) :\n",
    "        ## print( v )\n",
    "        m = msgdispatch.replace(\"VALUE\",v)\n",
    "        print( \"sending:\"+m)\n",
    "        sendMqtt( m )\n",
    "        v = str(input() )    \n",
    "        \n",
    "#################################################   \n",
    "client= paho.Client(\"senderPython\")      \n",
    "client.connect(brokerAddr)              #connect\n",
    "print(\"connected to broker \", brokerAddr)\n",
    "init()\n",
    "console()\n",
    "print(\"BYE\")\n",
    "##terminate()"
   ]
  },
  {
   "cell_type": "code",
   "execution_count": null,
   "metadata": {},
   "outputs": [],
   "source": []
  }
 ],
 "metadata": {
  "kernelspec": {
   "display_name": "Python 3",
   "language": "python",
   "name": "python3"
  },
  "language_info": {
   "codemirror_mode": {
    "name": "ipython",
    "version": 3
   },
   "file_extension": ".py",
   "mimetype": "text/x-python",
   "name": "python",
   "nbconvert_exporter": "python",
   "pygments_lexer": "ipython3",
   "version": "3.7.3"
  }
 },
 "nbformat": 4,
 "nbformat_minor": 2
}
