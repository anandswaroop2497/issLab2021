{
 "cells": [
  {
   "cell_type": "code",
   "execution_count": 10,
   "metadata": {},
   "outputs": [
    {
     "name": "stdout",
     "output_type": "stream",
     "text": [
      "connected to broker  localhost\n",
      "56\n",
      "sending:msg(applupdate, dispatch,python,sonarresource,applupdate(sonarrobot(56)),5)\n",
      "sendMqtt  msg(applupdate, dispatch,python,sonarresource,applupdate(sonarrobot(56)),5)\n",
      "77\n",
      "sending:msg(applupdate, dispatch,python,sonarresource,applupdate(sonarrobot(77)),5)\n",
      "sendMqtt  msg(applupdate, dispatch,python,sonarresource,applupdate(sonarrobot(77)),5)\n",
      "q\n",
      "BYE\n"
     ]
    }
   ],
   "source": [
    "## sonarresourceCallerMQTT\n",
    "## simulates sonar data emitted using MQTT\n",
    "## the perceiver is the qak sonarresource (project it.unibo.sonarAsResource)\n",
    "import time\n",
    "import paho.mqtt.client as paho\n",
    " \n",
    "brokerAddr     = \"localhost\"   ##\"broker.hivemq.com\"\n",
    "topic          = \"sonar/data\"\n",
    " \n",
    "msgdispatch   = \"msg(applupdate, dispatch,python,sonarresource,applupdate(sonarrobot(VALUE)),5)\"\n",
    "msgevent      = \"msg(sonarrobot, event,   python,none,         sonar(VALUE),1)\"\n",
    "\n",
    "def sendMqtt( message ) :\n",
    "    print(\"sendMqtt \", message)\n",
    "    msg = message + \"\\n\"\n",
    "    #byt=msg.encode()    #required in Python3\n",
    "    client.publish(topic, msg)\n",
    "\n",
    "def on_message(client, userdata, message) :\n",
    "    print(\"message received \" ,str(message.payload.decode(\"utf-8\")))\n",
    "    ## print(\"message topic=\",message.topic)\n",
    "    ## print(\"message qos=\",message.qos)\n",
    "    ## print(\"message retain flag=\",message.retain)\n",
    "    \n",
    "\n",
    "def init() :\n",
    "    client.subscribe(topic, qos=0)      #subscribe before publish\n",
    "    client.on_message=on_message        #attach function to callback\n",
    "    client.loop_start()  #check for input messages\n",
    "\n",
    "def terminate() :\n",
    "    client.disconnect()\n",
    "    print(\"BYE\")\n",
    "    \n",
    "def console() :  \n",
    "    v =  str( input() )\n",
    "    ## print(\"INPUT\" , v  )    \n",
    "    while( v != \"q\"  ) :\n",
    "        ## print( v )\n",
    "        ## m = msgdispatch.replace(\"VALUE\",v)\n",
    "        m = msgevent.replace(\"VALUE\",v)\n",
    "        print( \"sending:\"+m)\n",
    "        sendMqtt( m )\n",
    "        v = str(input() )    \n",
    "        \n",
    "#################################################   \n",
    "client= paho.Client(\"senderPython\")      \n",
    "client.connect(brokerAddr)              #connect\n",
    "print(\"connected to broker \", brokerAddr)\n",
    "init()\n",
    "console()\n",
    "print(\"BYE\")\n",
    "##terminate()"
   ]
  },
  {
   "cell_type": "code",
   "execution_count": null,
   "metadata": {},
   "outputs": [],
   "source": []
  }
 ],
 "metadata": {
  "kernelspec": {
   "display_name": "Python 3",
   "language": "python",
   "name": "python3"
  },
  "language_info": {
   "codemirror_mode": {
    "name": "ipython",
    "version": 3
   },
   "file_extension": ".py",
   "mimetype": "text/x-python",
   "name": "python",
   "nbconvert_exporter": "python",
   "pygments_lexer": "ipython3",
   "version": "3.7.3"
  }
 },
 "nbformat": 4,
 "nbformat_minor": 2
}
