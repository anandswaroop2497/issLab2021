{
 "cells": [
  {
   "cell_type": "markdown",
   "metadata": {},
   "source": [
    "## Console for RadarGui via MQTT\n",
    "See the project it.unibo.qak.radar2020"
   ]
  },
  {
   "cell_type": "code",
   "execution_count": 2,
   "metadata": {},
   "outputs": [
    {
     "name": "stdout",
     "output_type": "stream",
     "text": [
      "connected to broker  broker.hivemq.com\n",
      "console  STARTS :\n",
      "77\n",
      "console  cmd= 77\n",
      "publish via MQTT msg(polar,event,python,radargui,polar(77,0),1)\n",
      "44\n",
      "publish via MQTT msg(polar,event,python,radargui,polar(44,0),1)\n",
      "55\n",
      "publish via MQTT msg(polar,event,python,radargui,polar(55,0),1)\n",
      "q\n"
     ]
    }
   ],
   "source": [
    "import time\n",
    "import paho.mqtt.client as paho\n",
    " \n",
    "brokerAddr     =  \"broker.hivemq.com\"       ##\"localhost\"\n",
    " \n",
    "robotName      = \"radargui\"                 #specific knowledge\n",
    "evtopic        = \"unibo/qak/events\"         #a sort of 'standard'\n",
    "radaGuitopic   = \"unibo/radar\"\n",
    "eventTemplate  = \"msg(polar,event,python,none,polar(CMDVAL,0),1)\"\n",
    "msgTemplate    = \"msg(polar,event,python,\"+ robotName +\",polar(CMDVAL,0),1)\"\n",
    "\n",
    "def publish( message, topic ) :\n",
    "    print(\"publish via MQTT\", message)\n",
    "    msg = message + \"\\n\"\n",
    "    client.publish(topic, msg)\n",
    "\n",
    "def console() :  \n",
    "    print(\"console  STARTS :\"   )\n",
    "    cmd =  str( input() )\n",
    "    print(\"console  cmd=\" , cmd  )\n",
    "    while( cmd != \"q\"  ) :\n",
    "        ### msgEvent = eventTemplate.replace(\"CMDVAL\", cmd)\n",
    "        ### print( msgEvent )\n",
    "        ### publish( msgEvent, evtopic )\n",
    "        ### time.sleep(1)\n",
    "        msgDispatch = msgTemplate.replace(\"CMDVAL\", cmd)   \n",
    "        publish( msgDispatch, radaGuitopic )\n",
    "        cmd =  str(input())\n",
    "\n",
    "client= paho.Client(\"sender\")      \n",
    "client.connect(brokerAddr)              #connect\n",
    "print(\"connected to broker \", brokerAddr)\n",
    "\n",
    "console()"
   ]
  },
  {
   "cell_type": "code",
   "execution_count": null,
   "metadata": {},
   "outputs": [],
   "source": []
  }
 ],
 "metadata": {
  "kernelspec": {
   "display_name": "Python 3",
   "language": "python",
   "name": "python3"
  },
  "language_info": {
   "codemirror_mode": {
    "name": "ipython",
    "version": 3
   },
   "file_extension": ".py",
   "mimetype": "text/x-python",
   "name": "python",
   "nbconvert_exporter": "python",
   "pygments_lexer": "ipython3",
   "version": "3.7.3"
  }
 },
 "nbformat": 4,
 "nbformat_minor": 2
}
