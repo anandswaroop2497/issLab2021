{
 "cells": [
  {
   "cell_type": "code",
   "execution_count": null,
   "metadata": {},
   "outputs": [],
   "source": [
    "##############################################################\n",
    "# gettaskCallerTcp.py\n",
    "##############################################################\n",
    "import socket\n",
    "import time\n",
    "\n",
    "ipad = 'localhost' ##'79.30.230.113'  'localhost'\n",
    "port = 8025\n",
    "sock = socket.socket(socket.AF_INET, socket.SOCK_STREAM)\n",
    "\n",
    "msg  = \"msg(getmeatask,request,python,taskdeploy,getmeatask(stud,0000,mmm),1)\"\n",
    "\n",
    "def connect(port) :\n",
    "    server_address = (ipad, port)\n",
    "    sock.connect(server_address)    \n",
    "    print(\"CONNECTED \" , server_address)\n",
    "\n",
    "def request( message ) :\n",
    "    print(\"request \", message)\n",
    "    msg = message + \"\\n\"\n",
    "    byt=msg.encode()    #required in Python3\n",
    "    sock.send(byt)\n",
    "    handleAnswer()\n",
    "\n",
    "def handleAnswer() :\n",
    "    print(\"handleAnswer \" )\n",
    "    while True:  ##client wants to maintain the connection\n",
    "        reply = ''\n",
    "        while True:\n",
    "            answer = sock.recv(50)\n",
    "            ## print(\"answer len=\", len(answer))\n",
    "            if len(answer) <= 0 :\n",
    "                break\n",
    "            reply += answer.decode(\"utf-8\")\n",
    "            ## print(\"reply=\", reply)\n",
    "            if reply.endswith(\"\\n\") :\n",
    "                break\n",
    "        print(\"final reply=\", reply)\n",
    "        break\n",
    "\n",
    "def work() :\n",
    "    request( msg ) \n",
    "    \n",
    "def terminate() :\n",
    "    sock.close()\n",
    "    print(\"BYE\")\n",
    "\n",
    "###########################################    \n",
    "connect(port)\n",
    "work()\n",
    "##terminate()          "
   ]
  },
  {
   "cell_type": "code",
   "execution_count": null,
   "metadata": {},
   "outputs": [],
   "source": []
  }
 ],
 "metadata": {
  "kernelspec": {
   "display_name": "Python 3",
   "language": "python",
   "name": "python3"
  },
  "language_info": {
   "codemirror_mode": {
    "name": "ipython",
    "version": 3
   },
   "file_extension": ".py",
   "mimetype": "text/x-python",
   "name": "python",
   "nbconvert_exporter": "python",
   "pygments_lexer": "ipython3",
   "version": "3.7.3"
  }
 },
 "nbformat": 4,
 "nbformat_minor": 2
}
