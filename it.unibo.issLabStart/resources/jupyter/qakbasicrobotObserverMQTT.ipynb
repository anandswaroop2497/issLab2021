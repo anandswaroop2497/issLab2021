{
 "cells": [
  {
   "cell_type": "code",
   "execution_count": null,
   "metadata": {},
   "outputs": [],
   "source": [
    "#####################################################\n",
    "### qakbasicrobotObserverMQTT\n",
    "#####################################################\n",
    "\n",
    "import time\n",
    "import paho.mqtt.client as paho\n",
    " \n",
    "brokerAddr     =  \"broker.hivemq.com\"       ##\"localhost\"\n",
    "  \n",
    "def subscribeToInfoFromRobot() :\n",
    "    infoObserver   = paho.Client(\"observer\")\n",
    "    infoObserver.connect(brokerAddr)              #connect\n",
    "    print(\"infoObserver connected to broker \", brokerAddr)\n",
    "    infoObserver.subscribe(robottopic, qos=0)\n",
    "    infoObserver.on_message=on_message            #attach function to callback\n",
    "    infoObserver.loop_start()                     #check for input messages\n",
    "    \n",
    "def on_message(client, userdata, message) :\n",
    "    print(\"message received \" ,str(message.payload.decode(\"utf-8\")))\n",
    "    ## print(\"message topic=\",message.topic)\n",
    "    ## print(\"message qos=\",message.qos)\n",
    "    ## print(\"message retain flag=\",message.retain)\n",
    "       \n",
    " ################################################# \n",
    "\n",
    "subscribeToInfoFromRobot()\n",
    "cmd =  str( input() ) ##keep alive ...\n",
    " "
   ]
  }
 ],
 "metadata": {
  "kernelspec": {
   "display_name": "Python 3",
   "language": "python",
   "name": "python3"
  },
  "language_info": {
   "codemirror_mode": {
    "name": "ipython",
    "version": 3
   },
   "file_extension": ".py",
   "mimetype": "text/x-python",
   "name": "python",
   "nbconvert_exporter": "python",
   "pygments_lexer": "ipython3",
   "version": "3.7.3"
  }
 },
 "nbformat": 4,
 "nbformat_minor": 2
}
