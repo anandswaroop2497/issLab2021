{
 "cells": [
  {
   "cell_type": "code",
   "execution_count": 10,
   "metadata": {},
   "outputs": [
    {
     "name": "stdout",
     "output_type": "stream",
     "text": [
      "CONNECTED  ('localhost', 8095)\n",
      "emit  msg(alarm,event,python,none,alarm(firetcp),1)\n",
      "emit  msg(alarm,event,python,none,alarm(tsunamitcp),2)\n",
      "BYE\n"
     ]
    }
   ],
   "source": [
    "##############################################################\n",
    "# tcp_emitter.py\n",
    "##############################################################\n",
    "import socket\n",
    "import time\n",
    "\n",
    "port = 8055               ## 8095 for demo0  8055 fro sentinel\n",
    "sock = socket.socket(socket.AF_INET, socket.SOCK_STREAM)\n",
    "\n",
    "alarmFire     = \"msg(alarm,event,python,none,alarm(firetcp),1)\"\n",
    "alarmTsunami  = \"msg(alarm,event,python,none,alarm(tsunamitcp),2)\"\n",
    "\n",
    "def connect(port) :\n",
    "    server_address = ('localhost', port)\n",
    "    sock.connect(server_address)    \n",
    "    print(\"CONNECTED \" , server_address)\n",
    "\n",
    "def emit( message ) :\n",
    "    print(\"emit \", message)\n",
    "    msg = message + \"\\n\"\n",
    "    byt=msg.encode()    #required in Python3\n",
    "    sock.send(byt)\n",
    "\n",
    "def work() :\n",
    "    emit( alarmFire ) \n",
    "    time.sleep(1)\n",
    "    emit( alarmTsunami )\n",
    "\n",
    "\n",
    "def terminate() :\n",
    "    sock.close()\n",
    "    print(\"BYE\")\n",
    "\n",
    "###########################################    \n",
    "connect(port)\n",
    "work()\n",
    "terminate()  \n"
   ]
  },
  {
   "cell_type": "code",
   "execution_count": null,
   "metadata": {},
   "outputs": [],
   "source": []
  }
 ],
 "metadata": {
  "kernelspec": {
   "display_name": "Python 3",
   "language": "python",
   "name": "python3"
  },
  "language_info": {
   "codemirror_mode": {
    "name": "ipython",
    "version": 3
   },
   "file_extension": ".py",
   "mimetype": "text/x-python",
   "name": "python",
   "nbconvert_exporter": "python",
   "pygments_lexer": "ipython3",
   "version": "3.7.3"
  }
 },
 "nbformat": 4,
 "nbformat_minor": 2
}
