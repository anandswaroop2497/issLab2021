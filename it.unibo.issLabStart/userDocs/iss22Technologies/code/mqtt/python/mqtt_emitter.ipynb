{
 "cells": [
  {
   "cell_type": "code",
   "execution_count": 7,
   "metadata": {},
   "outputs": [
    {
     "name": "stdout",
     "output_type": "stream",
     "text": [
      "connected to broker  localhost\n",
      "emit  msg(alarm,event,pythonan,none,alarm(firemqtt),1)\n",
      "emit  msg(alarm,event,pythonan,none,alarm(tsunamimqtt),2)\n",
      "BYE\n"
     ]
    }
   ],
   "source": [
    "##############################################################\n",
    "# mqtt_emitter.py\n",
    "# sendDispatch       : sends a command in output\n",
    "# read               : acquires data from input\n",
    "##############################################################\n",
    "import time\n",
    "import paho.mqtt.client as paho\n",
    " \n",
    "brokerAddr     = \"localhost\" ## \"mqtt.eclipse.org\"  \"broker.hivemq.com\"\n",
    "topic          = \"demo0/events\"      ## \"unibo/qak/demo\"    ##\"sentinel/events\"\n",
    " \n",
    "alarmFire     = \"msg(alarm,event,pythonan,none,alarm(firemqtt),1)\"\n",
    "alarmTsunami  = \"msg(alarm,event,pythonan,none,alarm(tsunamimqtt),2)\"\n",
    "\n",
    "def emit( message ) :\n",
    "    print(\"emit \", message)\n",
    "    msg = message + \"\\n\"\n",
    "    #byt=msg.encode()    #required in Python3\n",
    "    client.publish(topic, msg)\n",
    "\n",
    "def work() :\n",
    "    emit( alarmFire ) \n",
    "    time.sleep(1)\n",
    "    emit( alarmTsunami ) \n",
    "\n",
    "def terminate() :\n",
    "    client.disconnect()\n",
    "    print(\"BYE\")\n",
    "#################################################   \n",
    "client= paho.Client(\"sender\")      \n",
    "client.connect(brokerAddr)              #connect\n",
    "print(\"connected to broker \", brokerAddr)\n",
    "work()\n",
    "terminate()"
   ]
  },
  {
   "cell_type": "code",
   "execution_count": null,
   "metadata": {},
   "outputs": [],
   "source": []
  },
  {
   "cell_type": "code",
   "execution_count": null,
   "metadata": {},
   "outputs": [],
   "source": []
  }
 ],
 "metadata": {
  "kernelspec": {
   "display_name": "Python 3",
   "language": "python",
   "name": "python3"
  },
  "language_info": {
   "codemirror_mode": {
    "name": "ipython",
    "version": 3
   },
   "file_extension": ".py",
   "mimetype": "text/x-python",
   "name": "python",
   "nbconvert_exporter": "python",
   "pygments_lexer": "ipython3",
   "version": "3.7.3"
  }
 },
 "nbformat": 4,
 "nbformat_minor": 2
}
