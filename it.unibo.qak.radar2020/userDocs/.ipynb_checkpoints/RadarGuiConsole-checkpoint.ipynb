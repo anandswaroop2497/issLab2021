{
 "cells": [
  {
   "cell_type": "markdown",
   "metadata": {
    "slideshow": {
     "slide_type": "subslide"
    }
   },
   "source": [
    "# Console for RadarGui\n",
    "See the project it.unibo.qak.radar2020"
   ]
  },
  {
   "cell_type": "code",
   "execution_count": null,
   "metadata": {},
   "outputs": [],
   "source": []
  },
  {
   "cell_type": "code",
   "execution_count": 3,
   "metadata": {},
   "outputs": [
    {
     "name": "stdout",
     "output_type": "stream",
     "text": [
      "STARTING ... \n",
      "CONNECTED WITH  ('localhost', 8038)\n",
      "console  STARTS :\n",
      "20\n",
      "console  cmd= : 20\n",
      "msg(polar,dispatch,python,radargui,polar(20,0),1)\n",
      "forward  msg(polar,dispatch,python,radargui,polar(20,0),1)\n",
      "80\n",
      "msg(polar,dispatch,python,radargui,polar(80,0),1)\n",
      "forward  msg(polar,dispatch,python,radargui,polar(80,0),1)\n",
      "q\n"
     ]
    }
   ],
   "source": [
    "##############################################################\n",
    "# forward       : sends a diapatch command in output\n",
    "##############################################################\n",
    "import socket\n",
    "import time\n",
    "\n",
    "robotName      = \"radargui\" # \"robotappl0 \" robotadapter | basicrobot\n",
    "\n",
    "hostAdress     = 'localhost'\n",
    "port           = 8038\n",
    "\n",
    "msgTemplate   = \"msg(polar,dispatch,python,\"+ robotName +\",polar(CMDVAL,0),1)\"\n",
    "reqTemplate   = \"msg(polar,request,python,\"+ robotName +\",polar(CMDVAL,0),1)\"\n",
    "evTemplate    = \"msg(polar,event,python,none,polar(CMDVAL,0),1)\"\n",
    "\n",
    "sock          = socket.socket(socket.AF_INET, socket.SOCK_STREAM)\n",
    "\n",
    "def connect(port) :\n",
    "    server_address = (hostAdress, port)\n",
    "    sock.connect(server_address)    \n",
    "    print(\"CONNECTED WITH \", server_address)\n",
    "\n",
    "def terminate() :\n",
    "    sock.close()    #qak infrastr receives a msg null\n",
    "    print(\"BYE\")\n",
    "\n",
    "def forward( message ) :\n",
    "    print(\"forward \", message)\n",
    "    msg = message + \"\\n\"\n",
    "    byt=msg.encode()    #required in Python3\n",
    "    sock.send(byt)\n",
    "\n",
    "def console() :  \n",
    "    print(\"console  STARTS :\"   )\n",
    "    cmd =  str( input() )\n",
    "    print(\"console  cmd= :\" , cmd  )\n",
    "    while( cmd != \"q\"  ) :\n",
    "        msg = msgTemplate.replace(\"CMDVAL\", cmd)\n",
    "        print( msg )\n",
    "        forward( msg )\n",
    "        cmd =  str(input())\n",
    "     \n",
    "##################################################\n",
    "print(\"STARTING ... \")\n",
    "connect(port)\n",
    "console()"
   ]
  },
  {
   "cell_type": "code",
   "execution_count": null,
   "metadata": {},
   "outputs": [],
   "source": []
  }
 ],
 "metadata": {
  "kernelspec": {
   "display_name": "Python 3",
   "language": "python",
   "name": "python3"
  },
  "language_info": {
   "codemirror_mode": {
    "name": "ipython",
    "version": 3
   },
   "file_extension": ".py",
   "mimetype": "text/x-python",
   "name": "python",
   "nbconvert_exporter": "python",
   "pygments_lexer": "ipython3",
   "version": "3.7.3"
  }
 },
 "nbformat": 4,
 "nbformat_minor": 2
}
