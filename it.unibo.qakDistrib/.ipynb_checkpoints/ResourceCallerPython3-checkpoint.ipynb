{
 "cells": [
  {
   "cell_type": "code",
   "execution_count": 1,
   "metadata": {},
   "outputs": [
    {
     "name": "stdout",
     "output_type": "stream",
     "text": [
      "CONNECTED  ('localhost', 8048)\n",
      "emit  msg(alarm,event,python,none,alarm(fire),1)\n",
      "BYE\n"
     ]
    }
   ],
   "source": [
    "##############################################################\n",
    "# ResourceCallerPython3.ipynb\n",
    "#\n",
    "# QAk-Events are not propagated to aliens via TCP - only via MQTT\n",
    "##############################################################\n",
    "import socket\n",
    "import time\n",
    "\n",
    "port = 8048\n",
    "sock = socket.socket(socket.AF_INET, socket.SOCK_STREAM)\n",
    "\n",
    "msgresourcealone   = \"msg(cmd,request,python,resource,cmd(python),5)\"\n",
    "msgresourcecommon  = \"msg(cmd,request,python,resourceandco,cmd(python),10)\"\n",
    "alarm              = \"msg(alarm,event,python,none,alarm(fire),1)\"\n",
    "\n",
    "def connect(port) :\n",
    "    server_address = ('localhost', port)\n",
    "    sock.connect(server_address)    \n",
    "    print(\"CONNECTED \" , server_address)\n",
    "\n",
    "def emit( event ) :\n",
    "    print(\"emit \", event)\n",
    "    msg = event + \"\\n\"\n",
    "    byt=msg.encode()    #required in Python3\n",
    "    sock.send(byt)\n",
    "\n",
    "def forward( message ) :\n",
    "    print(\"forward \", message)\n",
    "    msg = message + \"\\n\"\n",
    "    byt=msg.encode()    #required in Python3\n",
    "    sock.send(byt)\n",
    "\n",
    "def request( message ) :\n",
    "    print(\"request \", message)\n",
    "    msg = message + \"\\n\"\n",
    "    byt=msg.encode()    #required in Python3\n",
    "    sock.send(byt)\n",
    "    handleSocketInput()\n",
    "\n",
    "def handleSocketInput() :       \n",
    "    print(\"handleSocketInput \" )\n",
    "    while True:  ##client wants to maintain the connection\n",
    "        input = ''\n",
    "        while True:\n",
    "            answer = sock.recv(50)\n",
    "            ## print(\"input len=\", len(answer))\n",
    "            if len(answer) <= 0 :\n",
    "                break\n",
    "            input += answer.decode(\"utf-8\")\n",
    "            ## print(\"partial input=\", input)\n",
    "            if input.endswith(\"\\n\") :\n",
    "                break\n",
    "        print(\"input=\", input)\n",
    "        break           \n",
    "            \n",
    "def work() :\n",
    "    request( msgresourcealone )       ## ## The alarm event emitted by resource DOES NOT ARRIVE HERE\n",
    "    ## emit( alarm )                  ## The event can be perceived by the resource only\n",
    "\n",
    "\n",
    "def terminate() :\n",
    "    sock.close()\n",
    "    \n",
    "\n",
    "###########################################    \n",
    "connect(port)\n",
    "work()\n",
    "##terminate()  \n",
    "print(\"BYE\")"
   ]
  },
  {
   "cell_type": "code",
   "execution_count": null,
   "metadata": {},
   "outputs": [],
   "source": []
  }
 ],
 "metadata": {
  "kernelspec": {
   "display_name": "Python 3",
   "language": "python",
   "name": "python3"
  },
  "language_info": {
   "codemirror_mode": {
    "name": "ipython",
    "version": 3
   },
   "file_extension": ".py",
   "mimetype": "text/x-python",
   "name": "python",
   "nbconvert_exporter": "python",
   "pygments_lexer": "ipython3",
   "version": "3.8.8"
  }
 },
 "nbformat": 4,
 "nbformat_minor": 2
}
