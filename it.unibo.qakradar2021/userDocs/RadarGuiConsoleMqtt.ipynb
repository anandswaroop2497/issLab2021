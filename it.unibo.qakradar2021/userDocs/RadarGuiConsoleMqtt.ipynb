{
 "cells": [
  {
   "cell_type": "markdown",
   "metadata": {},
   "source": [
    "## Console for RadarGui via MQTT\n",
    "See the project it.unibo.qak.radar2020"
   ]
  },
  {
   "cell_type": "code",
   "execution_count": null,
   "metadata": {},
   "outputs": [],
   "source": [
    "import time\n",
    "import paho.mqtt.client as paho\n",
    " \n",
    "brokerAddr=\"localhost\"\n",
    " \n",
    "robotName      = \"radargui\"                 #specific knowledge\n",
    "evtopic        = \"unibo/qak/events\"         #a sort of 'standard'\n",
    "radaGuitopic   = \"unibo/qak/radargui\"\n",
    "eventTemplate  = \"msg(polar,event,python,none,polar(CMDVAL,0),1)\"\n",
    "msgTemplate    = \"msg(polar,event,python,\"+ robotName +\",polar(CMDVAL,0),1)\"\n",
    "\n",
    "def publish( message, topic ) :\n",
    "    print(\"emit event via MQTT\", message)\n",
    "    msg = message + \"\\n\"\n",
    "    client.publish(topic, msg)\n",
    " \n",
    "\n",
    "def console() :  \n",
    "    print(\"console  STARTS :\"   )\n",
    "    cmd =  str( input() )\n",
    "    print(\"console  cmd=\" , cmd  )\n",
    "    while( cmd != \"q\"  ) :\n",
    "        msgEvent = eventTemplate.replace(\"CMDVAL\", cmd)\n",
    "        print( msgEvent )\n",
    "        publish( msgEvent, evtopic )\n",
    "        time.sleep(1)\n",
    "        msgDispatch = msgTemplate.replace(\"CMDVAL\", \"10\")  #just to see ... \n",
    "        publish( msgDispatch, radaGuitopic )\n",
    "        cmd =  str(input())\n",
    "   \n",
    "client= paho.Client(\"sender\")      \n",
    "client.connect(brokerAddr)              #connect\n",
    "print(\"connected to broker \", brokerAddr)\n",
    "\n",
    "console()"
   ]
  },
  {
   "cell_type": "code",
   "execution_count": null,
   "metadata": {},
   "outputs": [],
   "source": []
  }
 ],
 "metadata": {
  "kernelspec": {
   "display_name": "Python 3",
   "language": "python",
   "name": "python3"
  },
  "language_info": {
   "codemirror_mode": {
    "name": "ipython",
    "version": 3
   },
   "file_extension": ".py",
   "mimetype": "text/x-python",
   "name": "python",
   "nbconvert_exporter": "python",
   "pygments_lexer": "ipython3",
   "version": "3.7.3"
  }
 },
 "nbformat": 4,
 "nbformat_minor": 2
}
